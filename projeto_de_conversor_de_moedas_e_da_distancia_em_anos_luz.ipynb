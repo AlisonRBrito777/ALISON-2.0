{
  "nbformat": 4,
  "nbformat_minor": 0,
  "metadata": {
    "colab": {
      "provenance": [],
      "authorship_tag": "ABX9TyM8NPnr2LrHy24kcDHuAwbF",
      "include_colab_link": true
    },
    "kernelspec": {
      "name": "python3",
      "display_name": "Python 3"
    },
    "language_info": {
      "name": "python"
    }
  },
  "cells": [
    {
      "cell_type": "markdown",
      "metadata": {
        "id": "view-in-github",
        "colab_type": "text"
      },
      "source": [
        "<a href=\"https://colab.research.google.com/github/AlisonRBrito777/ALISON-2.0/blob/main/projeto_de_conversor_de_moedas_e_da_distancia_em_anos_luz.ipynb\" target=\"_parent\"><img src=\"https://colab.research.google.com/assets/colab-badge.svg\" alt=\"Open In Colab\"/></a>"
      ]
    },
    {
      "cell_type": "code",
      "execution_count": 1,
      "metadata": {
        "colab": {
          "base_uri": "https://localhost:8080/"
        },
        "id": "YHGjFpVTf5eD",
        "outputId": "6cb75013-ed15-4d99-e91d-66b765e0b2f1"
      },
      "outputs": [
        {
          "output_type": "stream",
          "name": "stdout",
          "text": [
            "👋 Olá! Sou seu conversor e assistente.\n",
            "--------------------\n",
            "🤖 O que quer fazer? (moeda, distancia, sair)\n",
            "> sair\n",
            "👋 Tchau!\n"
          ]
        }
      ],
      "source": [
        "import requests\n",
        "import re\n",
        "import os\n",
        "\n",
        "API_KEY = os.environ.get('CONVER_API')\n",
        "\n",
        "\n",
        "def converter_moeda_api(valor, moeda_origem, moeda_destino):\n",
        "    \"\"\"Converte moedas usando a API da Freecurrencyapi.com.\"\"\"\n",
        "    moeda_origem = moeda_origem.upper()\n",
        "    moeda_destino = moeda_destino.upper()\n",
        "    if moeda_origem == moeda_destino or not API_KEY:\n",
        "        return valor\n",
        "    url = f\"https://freecurrencyapi.net/api/v2/latest?apikey={API_KEY}&base_currency={moeda_origem}&currencies={moeda_destino}\"\n",
        "    try:\n",
        "        response = requests.get(url)\n",
        "        response.raise_for_status()\n",
        "        data = response.json()\n",
        "        return valor * data['data'][moeda_destino] if data and data.get('data') and moeda_destino in data['data'] else None\n",
        "    except Exception:\n",
        "        return None\n",
        "\n",
        "def converter_anos_luz_para_metros(anos_luz):\n",
        "    return anos_luz * 9.461e15\n",
        "\n",
        "def converter_metros_para_anos_luz(metros):\n",
        "    return metros / 9.461e15 if metros else 0\n",
        "\n",
        "def iniciar_conversa_moeda():\n",
        "    print(\"\\n🤖 Vamos converter moedas!\")\n",
        "    try:\n",
        "        valor = float(input(\"🤖 Valor a converter: \").replace(\",\", \".\"))\n",
        "        origem = input(\"🤖 Moeda de origem (ex: BRL, USD, EUR): \").upper()\n",
        "        destino = input(\"🤖 Moeda de destino (ex: BRL, USD, EUR): \").upper()\n",
        "        resultado = converter_moeda_api(valor, origem, destino)\n",
        "        if resultado is not None:\n",
        "            print(f\"✅ {valor:.2f} {origem} é igual a {resultado:.2f} {destino}.\")\n",
        "        else:\n",
        "            print(\"😕 Não foi possível converter. Verifique as moedas e a chave da API.\")\n",
        "    except ValueError:\n",
        "        print(\"😕 Valor inválido.\")\n",
        "\n",
        "def iniciar_conversa_distancia():\n",
        "    print(\"\\n🤖 Vamos converter distâncias (anos-luz/metros).\")\n",
        "    escolha = input(\"🤖 Converter de (am/ma): \").lower()\n",
        "    try:\n",
        "        valor = float(input(\"🤖 Valor: \").replace(\",\", \".\"))\n",
        "        if escolha == 'am':\n",
        "            print(f\"✅ {valor} anos-luz é igual a {converter_anos_luz_para_metros(valor):.4e} metros.\")\n",
        "        elif escolha == 'ma':\n",
        "            print(f\"✅ {valor:.4e} metros é igual a {converter_metros_para_anos_luz(valor):.4e} anos-luz.\")\n",
        "        else:\n",
        "            print(\"😕 Opção inválida.\")\n",
        "    except ValueError:\n",
        "        print(\"😕 Valor inválido.\")\n",
        "\n",
        "def main():\n",
        "    print(\"👋 Olá! Sou seu conversor e assistente.\")\n",
        "    while True:\n",
        "        print(\"-\" * 20)\n",
        "        acao = input(\"🤖 O que quer fazer? (moeda, distancia, sair)\\n> \").lower()\n",
        "        if \"moeda\" in acao:\n",
        "            iniciar_conversa_moeda()\n",
        "        elif \"distancia\" in acao:\n",
        "            iniciar_conversa_distancia()\n",
        "        elif \"sair\" in acao:\n",
        "            print(\"👋 Tchau!\")\n",
        "            break\n",
        "        else:\n",
        "            print(\"😕 Opção não reconhecida.\")\n",
        "\n",
        "if __name__ == \"__main__\":\n",
        "    main()"
      ]
    }
  ]
}